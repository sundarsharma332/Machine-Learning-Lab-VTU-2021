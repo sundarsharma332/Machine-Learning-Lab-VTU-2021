{
 "cells": [
  {
   "cell_type": "code",
   "execution_count": 23,
   "metadata": {},
   "outputs": [
    {
     "name": "stdout",
     "output_type": "stream",
     "text": [
      "Begin Hypothesis : ['ϕ', 'ϕ', 'ϕ', 'ϕ', 'ϕ', 'ϕ']\n",
      "Training data :  ['sunny', 'warm', 'normal', 'strong', 'warm', 'same', 'y']\n",
      "updated Hypothesis :  ['sunny', 'warm', 'normal', 'strong', 'warm', 'same']\n",
      "Training data :  ['sunny', 'warm', 'high', 'strong', 'warm', 'same', 'y']\n",
      "updated Hypothesis :  ['sunny', 'warm', '?', 'strong', 'warm', 'same']\n",
      "Training data :  ['rainy', 'cold', 'high', 'strong', 'warm', 'change', 'n']\n",
      "Training data :  ['sunny', 'warm', 'high', 'strong', 'cool', 'change', 'y']\n",
      "updated Hypothesis :  ['sunny', 'warm', '?', 'strong', '?', '?']\n",
      "Maximally specefic hypothesis: ['sunny', 'warm', '?', 'strong', '?', '?']\n"
     ]
    }
   ],
   "source": [
    "import csv\n",
    "with open('finds.csv' , 'r') as any:\n",
    "    reader = csv.reader(any)\n",
    "    data = []\n",
    "    for row in reader:\n",
    "        data.append(row)        \n",
    "\n",
    "h = ['ϕ','ϕ','ϕ','ϕ','ϕ','ϕ']\n",
    "print(\"Begin Hypothesis :\" , h)\n",
    "# print(\"dataset\" , data)\n",
    "for row in data:\n",
    "    print(\"Training data : \" , row)\n",
    "    if row[-1] == 'y':\n",
    "        j = 0\n",
    "        for col in row:\n",
    "            if col != 'y':\n",
    "                if col != h[j] and h[j] == 'ϕ':\n",
    "                    h[j] = col\n",
    "                elif col != h[j] and h[j] != 'ϕ':\n",
    "                    h[j] = '?'\n",
    "            j = j + 1\n",
    "                    \n",
    "        print(\"updated Hypothesis : \" ,h)    \n",
    "print('Maximally specefic hypothesis:' , h)"
   ]
  },
  {
   "cell_type": "code",
   "execution_count": null,
   "metadata": {},
   "outputs": [],
   "source": []
  },
  {
   "cell_type": "code",
   "execution_count": null,
   "metadata": {},
   "outputs": [],
   "source": []
  }
 ],
 "metadata": {
  "kernelspec": {
   "display_name": "Python 3",
   "language": "python",
   "name": "python3"
  },
  "language_info": {
   "codemirror_mode": {
    "name": "ipython",
    "version": 3
   },
   "file_extension": ".py",
   "mimetype": "text/x-python",
   "name": "python",
   "nbconvert_exporter": "python",
   "pygments_lexer": "ipython3",
   "version": "3.8.5"
  }
 },
 "nbformat": 4,
 "nbformat_minor": 4
}
