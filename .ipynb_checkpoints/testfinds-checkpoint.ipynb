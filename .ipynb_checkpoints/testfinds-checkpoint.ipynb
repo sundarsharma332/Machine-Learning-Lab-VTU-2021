{
 "cells": [
  {
   "cell_type": "code",
   "execution_count": 3,
   "metadata": {},
   "outputs": [
    {
     "name": "stdout",
     "output_type": "stream",
     "text": [
      "Hello world !\n"
     ]
    }
   ],
   "source": [
    "print(\"Hello world !\")"
   ]
  },
  {
   "cell_type": "code",
   "execution_count": 4,
   "metadata": {},
   "outputs": [
    {
     "name": "stdout",
     "output_type": "stream",
     "text": [
      "[['sunny', 'warm', 'normal', 'strong', 'warm', 'same', 'y'], ['sunny', 'warm', 'high', 'strong', 'warm', 'same', 'y'], ['rainy', 'cold', 'high', 'strong', 'warm', 'change', 'n'], ['sunny', 'warm', 'high', 'strong', 'cool', 'change', 'y']]\n"
     ]
    }
   ],
   "source": [
    "import csv\n",
    "with open('finds.csv' , 'r') as any:\n",
    "    reader = csv.reader(any)\n",
    "    data = []\n",
    "    for row in reader:\n",
    "        data.append(row)\n",
    "print(data)        "
   ]
  },
  {
   "cell_type": "code",
   "execution_count": null,
   "metadata": {},
   "outputs": [],
   "source": [
    "h = ['phi' ,'phi' ,'phi' ,'phi' ,'phi' ,'phi' ]\n",
    "for row in data:\n",
    "    if row[-1] == 'y':\n",
    "        j = 0;\n",
    "        for col in row:\n",
    "            if col != 'y':\n",
    "                if col != h[j] and h[j] == 'phi':\n",
    "                    h[j] = col;\n",
    "                if col != h[j] and h[j] == 'phi':\n",
    "                    h[j] = '?'\n",
    "            j = j + 1\n",
    "            print(j)\n",
    "        print(\"updated Hypothesis\" , h)\n",
    "print(\"most specefiec  Hypothesis\" , h)        "
   ]
  }
 ],
 "metadata": {
  "kernelspec": {
   "display_name": "Python 3",
   "language": "python",
   "name": "python3"
  },
  "language_info": {
   "codemirror_mode": {
    "name": "ipython",
    "version": 3
   },
   "file_extension": ".py",
   "mimetype": "text/x-python",
   "name": "python",
   "nbconvert_exporter": "python",
   "pygments_lexer": "ipython3",
   "version": "3.8.5"
  }
 },
 "nbformat": 4,
 "nbformat_minor": 4
}
