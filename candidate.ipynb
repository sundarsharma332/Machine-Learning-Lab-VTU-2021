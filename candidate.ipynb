{
 "cells": [
  {
   "cell_type": "code",
   "execution_count": 9,
   "metadata": {},
   "outputs": [
    {
     "name": "stdout",
     "output_type": "stream",
     "text": [
      "[['sunny', 'warm', 'normal', 'strong', 'warm', 'same', 'yes'], ['sunny', 'warm', 'high', 'strong', 'warm', 'same', 'yes'], ['rainy', 'cold', 'high', 'strong', 'warm', 'change', 'no'], ['sunny', 'warm', 'high', 'strong', 'cool', 'change', 'yes']]\n",
      "general Hypothesis [['sunny', '?', '?', '?', '?', '?'], ['?', 'warm', '?', '?', '?', '?']]\n",
      "specefic_h ['sunny', 'warm', 'high', 'strong', '?', '?']\n"
     ]
    }
   ],
   "source": [
    "import csv\n",
    "#open the datasets and push the rows in the data list\n",
    "with open('candidate.csv' , 'r') as any:\n",
    "    reader = csv.reader(any)\n",
    "    data = [] #creating the data list\n",
    "    \n",
    "    for i in reader:\n",
    "        data.append(i) #append the data\n",
    "        \n",
    "L = len(data[0]) - 1    #length of the row #initially 6\n",
    "S = ['phi'] * L\n",
    "G = ['?'] * L\n",
    "H = []\n",
    "for i in range(0 , L):\n",
    "    S[i] = data[1][i]\n",
    "for i in range(1 , len(data)):\n",
    "    if data[i][L] == 'yes':\n",
    "        for j in range(0 , L):\n",
    "            if(S[j] != data[i][j]):\n",
    "                S[j] = '?'\n",
    "        for j in range(0 , L):\n",
    "            for k in range(0 , len(H)):\n",
    "                if H[k][j] != S[j] and H[k][j] !='?':\n",
    "                    del H[k]\n",
    "    if data[i][L] == 'no':\n",
    "        for j in range(0 , L):\n",
    "            if data[i][j] != S[j] and S[j] != '?':\n",
    "                G[j] = S[j]\n",
    "                H.append(G)\n",
    "                G = ['?'] * L\n",
    "print(\"general Hypothesis\" ,H)    \n",
    "print(\"specefic_h\" , S)"
   ]
  },
  {
   "cell_type": "code",
   "execution_count": null,
   "metadata": {},
   "outputs": [],
   "source": []
  },
  {
   "cell_type": "code",
   "execution_count": null,
   "metadata": {},
   "outputs": [],
   "source": []
  },
  {
   "cell_type": "code",
   "execution_count": null,
   "metadata": {},
   "outputs": [],
   "source": []
  },
  {
   "cell_type": "code",
   "execution_count": null,
   "metadata": {},
   "outputs": [],
   "source": [
    "               \n",
    "                \n",
    "                "
   ]
  },
  {
   "cell_type": "code",
   "execution_count": null,
   "metadata": {},
   "outputs": [],
   "source": []
  }
 ],
 "metadata": {
  "kernelspec": {
   "display_name": "Python 3",
   "language": "python",
   "name": "python3"
  },
  "language_info": {
   "codemirror_mode": {
    "name": "ipython",
    "version": 3
   },
   "file_extension": ".py",
   "mimetype": "text/x-python",
   "name": "python",
   "nbconvert_exporter": "python",
   "pygments_lexer": "ipython3",
   "version": "3.8.5"
  }
 },
 "nbformat": 4,
 "nbformat_minor": 4
}
