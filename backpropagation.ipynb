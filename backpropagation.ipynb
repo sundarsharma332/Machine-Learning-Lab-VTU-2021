{
 "cells": [
  {
   "cell_type": "code",
   "execution_count": null,
   "metadata": {},
   "outputs": [],
   "source": []
  },
  {
   "cell_type": "code",
   "execution_count": 15,
   "metadata": {},
   "outputs": [
    {
     "name": "stdout",
     "output_type": "stream",
     "text": [
      "Input: [[0.02173913 0.09782609]\n",
      " [0.01086957 0.05434783]\n",
      " [0.0326087  0.06521739]]\n",
      "Actual Output: [[0.92]\n",
      " [0.86]\n",
      " [0.89]]\n",
      "Loss: 0.045893052121949496\n",
      "\n",
      "\n",
      "Predicted Output: [[0.67652805]\n",
      " [0.6777422 ]\n",
      " [0.67743786]]\n"
     ]
    }
   ],
   "source": [
    "import numpy as np\n",
    "ip = np.array(([2 , 9] , [1, 5], [3 , 6]), dtype = float)\n",
    "op = np.array(([92] , [86] , [89]) , dtype = float)\n",
    "ip = ip / np.amax(op , axis=0)\n",
    "op = op/ 100;\n",
    "class NeuralNetwork(object):\n",
    "    \n",
    "    def __init__(self):\n",
    "        self.i_s = 2\n",
    "        self.o_s = 1\n",
    "        self.h_s = 3\n",
    "\n",
    "        self.w1 = np.random.randn(self.i_s, self.h_s)\n",
    "        self.w2 = np.random.randn(self.h_s, self.o_s)\n",
    "            \n",
    "    def feedForward(self, ip):\n",
    "        self.z1 = np.dot(ip, self.w1)\n",
    "        self.z2 = self.sigmoid(self.z1)\n",
    "        self.z3 = np.dot(self.z2, self.w2)\n",
    "        predection = self.sigmoid(self.z3)\n",
    "        return predection  \n",
    "        \n",
    "    def sigmoid(self, s,deriv=False):\n",
    "            if (deriv == True):\n",
    "                return s * (1 - s)\n",
    "            return 1 / (1 + np.exp(-s))\n",
    "    \n",
    "    def backward(self , ip , op , pred):\n",
    "        self.pred_error = op - pred\n",
    "        self.pred_delta = self.pred_error * self.sigmoid(pred , deriv = True)\n",
    "\n",
    "        self.z2_error = self.pred_delta.dot(self.w2.T)\n",
    "        self.z2_delta = self.z2_error * self.sigmoid(self.z2 ,deriv = True)\n",
    "\n",
    "        self.w1 += ip.T.dot(self.z2_delta)\n",
    "        self.w2 += self.z2.T.dot(self.pred_delta)\n",
    "            \n",
    "    def train(self , ip , op):\n",
    "        pred = self.feedForward(ip)\n",
    "        self.backward(ip , op , pred)    \n",
    "    \n",
    "NN = NeuralNetwork()\n",
    "for i in range(1): #trains the NN 1000 times\n",
    "    NN.train(ip, op)\n",
    "        \n",
    "print(\"Input: \" + str(ip))\n",
    "print(\"Actual Output: \" + str(op))\n",
    "print(\"Loss: \" + str(np.mean(np.square(op - NN.feedForward(ip)))))\n",
    "print(\"\\n\")\n",
    "print(\"Predicted Output: \" + str(NN.feedForward(ip)))        \n",
    "            "
   ]
  },
  {
   "cell_type": "code",
   "execution_count": null,
   "metadata": {},
   "outputs": [],
   "source": []
  },
  {
   "cell_type": "code",
   "execution_count": null,
   "metadata": {},
   "outputs": [],
   "source": []
  },
  {
   "cell_type": "code",
   "execution_count": 24,
   "metadata": {},
   "outputs": [],
   "source": [
    "\n",
    "\n",
    "\n",
    "    \n",
    "    "
   ]
  },
  {
   "cell_type": "code",
   "execution_count": 25,
   "metadata": {},
   "outputs": [],
   "source": []
  },
  {
   "cell_type": "code",
   "execution_count": null,
   "metadata": {},
   "outputs": [],
   "source": [
    "    "
   ]
  },
  {
   "cell_type": "code",
   "execution_count": null,
   "metadata": {},
   "outputs": [],
   "source": []
  }
 ],
 "metadata": {
  "kernelspec": {
   "display_name": "Python 3",
   "language": "python",
   "name": "python3"
  },
  "language_info": {
   "codemirror_mode": {
    "name": "ipython",
    "version": 3
   },
   "file_extension": ".py",
   "mimetype": "text/x-python",
   "name": "python",
   "nbconvert_exporter": "python",
   "pygments_lexer": "ipython3",
   "version": "3.8.5"
  }
 },
 "nbformat": 4,
 "nbformat_minor": 4
}
